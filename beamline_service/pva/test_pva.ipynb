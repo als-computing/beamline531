{
 "cells": [
  {
   "cell_type": "code",
   "execution_count": 1,
   "metadata": {},
   "outputs": [],
   "source": [
    "import time\n",
    "import numpy as np\n",
    "import pvaccess as pva\n",
    "import matplotlib.pyplot as plt\n",
    "from matplotlib.pyplot import plot, draw, show, ion\n",
    "ion()\n",
    "%matplotlib inline"
   ]
  },
  {
   "cell_type": "code",
   "execution_count": 2,
   "metadata": {},
   "outputs": [],
   "source": [
    "class pvaMonitor:\n",
    "    def __init__(self, fig, ax):\n",
    "        self.x = 0\n",
    "        self.y = 0\n",
    "        self.uid = 0\n",
    "        self.fig = fig\n",
    "        self.ax = ax\n",
    "        self.img = None\n",
    "        self.data = None\n",
    "\n",
    "    def monitor(self, pv):\n",
    "        print('Got image: %d' % pv['uniqueId'])\n",
    "        self.uid = pv['uniqueId']\n",
    "        self.x, self.y = pv['dimension'][0]['size'], pv['dimension'][1]['size']\n",
    "        self.data = pv['value'][0]['ubyteValue'].reshape((self.x, self.y))\n",
    "        self.plotData()\n",
    "\n",
    "    def plotData(self):\n",
    "        self.img = self.ax.imshow(self.data, 'gray') if self.img is None else self.img\n",
    "        self.img.set_data(self.data)\n",
    "        draw()"
   ]
  },
  {
   "cell_type": "code",
   "execution_count": 3,
   "metadata": {},
   "outputs": [],
   "source": [
    "def main(pvaChannel, pva_monitor):\n",
    "    c = pva.Channel(pvaChannel)\n",
    "    c.subscribe('monitor', pva_monitor.monitor)\n",
    "    c.startMonitor('')\n",
    "    time.sleep(100)"
   ]
  },
  {
   "cell_type": "code",
   "execution_count": 4,
   "metadata": {},
   "outputs": [
    {
     "name": "stdout",
     "output_type": "stream",
     "text": [
      "Got image: 60906\n",
      "Got image: 60907\n"
     ]
    },
    {
     "ename": "KeyboardInterrupt",
     "evalue": "",
     "output_type": "error",
     "traceback": [
      "\u001b[0;31m---------------------------------------------------------------------------\u001b[0m",
      "\u001b[0;31mKeyboardInterrupt\u001b[0m                         Traceback (most recent call last)",
      "Cell \u001b[0;32mIn[4], line 8\u001b[0m\n\u001b[1;32m      6\u001b[0m m \u001b[39m=\u001b[39m pvaMonitor(fig, ax)\n\u001b[1;32m      7\u001b[0m \u001b[39mif\u001b[39;00m \u001b[39m__name__\u001b[39m \u001b[39m==\u001b[39m \u001b[39m'\u001b[39m\u001b[39m__main__\u001b[39m\u001b[39m'\u001b[39m:\n\u001b[0;32m----> 8\u001b[0m     main(pvaChannel, m)\n",
      "Cell \u001b[0;32mIn[3], line 5\u001b[0m, in \u001b[0;36mmain\u001b[0;34m(pvaChannel, pva_monitor)\u001b[0m\n\u001b[1;32m      3\u001b[0m c\u001b[39m.\u001b[39msubscribe(\u001b[39m'\u001b[39m\u001b[39mmonitor\u001b[39m\u001b[39m'\u001b[39m, pva_monitor\u001b[39m.\u001b[39mmonitor)\n\u001b[1;32m      4\u001b[0m c\u001b[39m.\u001b[39mstartMonitor(\u001b[39m'\u001b[39m\u001b[39m'\u001b[39m)\n\u001b[0;32m----> 5\u001b[0m time\u001b[39m.\u001b[39;49msleep(\u001b[39m100\u001b[39;49m)\n",
      "\u001b[0;31mKeyboardInterrupt\u001b[0m: "
     ]
    },
    {
     "data": {
      "image/png": "[encoded data removed]",
      "text/plain": [
       "<Figure size 640x480 with 1 Axes>"
      ]
     },
     "metadata": {},
     "output_type": "display_data"
    },
    {
     "name": "stdout",
     "output_type": "stream",
     "text": [
      "Got image: 60908\n",
      "Got image: 60909\n",
      "Got image: 60910\n",
      "Got image: 60911\n",
      "Got image: 60912\n",
      "Got image: 60913\n",
      "Got image: 60914\n",
      "Got image: 60915\n",
      "Got image: 60916\n",
      "Got image: 60917\n",
      "Got image: 60918\n",
      "Got image: 60919\n",
      "Got image: 60920\n",
      "Got image: 60921\n",
      "Got image: 60922\n",
      "Got image: 60923\n",
      "Got image: 60924\n",
      "Got image: 60925\n",
      "Got image: 60926\n",
      "Got image: 60927\n",
      "Got image: 60928\n",
      "Got image: 60929\n",
      "Got image: 60930\n",
      "Got image: 60931\n",
      "Got image: 60932\n",
      "Got image: 60933\n",
      "Got image: 60934\n",
      "Got image: 60935\n",
      "Got image: 60936\n",
      "Got image: 60937\n",
      "Got image: 60938\n",
      "Got image: 60939\n",
      "Got image: 60940\n",
      "Got image: 60941\n",
      "Got image: 60942\n",
      "Got image: 60943\n",
      "Got image: 60944\n",
      "Got image: 60945\n",
      "Got image: 60946\n",
      "Got image: 60947\n",
      "Got image: 60948\n",
      "Got image: 60949\n",
      "Got image: 60950\n",
      "Got image: 60951\n",
      "Got image: 60953\n",
      "Got image: 60954\n",
      "Got image: 60955\n",
      "Got image: 60956\n",
      "Got image: 60958\n",
      "Got image: 60959\n",
      "Got image: 60960\n",
      "Got image: 60961\n",
      "Got image: 60962\n",
      "Got image: 60964\n",
      "Got image: 60965\n",
      "Got image: 60966\n",
      "Got image: 60967\n",
      "Got image: 60968\n",
      "Got image: 60969\n",
      "Got image: 60970\n",
      "Got image: 60972\n",
      "Got image: 60973\n",
      "Got image: 60974\n",
      "Got image: 60975\n",
      "Got image: 60976\n",
      "Got image: 60978\n",
      "Got image: 60979\n",
      "Got image: 60980\n",
      "Got image: 60981\n",
      "Got image: 60982\n",
      "Got image: 60984\n",
      "Got image: 60985\n",
      "Got image: 60986\n",
      "Got image: 60987\n",
      "Got image: 60988\n",
      "Got image: 60990\n",
      "Got image: 60991\n",
      "Got image: 60992\n",
      "Got image: 60993\n",
      "Got image: 60994\n",
      "Got image: 60995\n",
      "Got image: 60997\n",
      "Got image: 60998\n",
      "Got image: 60999\n",
      "Got image: 61000\n",
      "Got image: 61001\n",
      "Got image: 61002\n",
      "Got image: 61004\n",
      "Got image: 61005\n",
      "Got image: 61006\n",
      "Got image: 61007\n",
      "Got image: 61008\n",
      "Got image: 61010\n",
      "Got image: 61011\n",
      "Got image: 61012\n",
      "Got image: 61013\n",
      "Got image: 61014\n",
      "Got image: 61015\n",
      "Got image: 61017\n",
      "Got image: 61018\n",
      "Got image: 1\n",
      "Got image: 2\n",
      "Got image: 3\n",
      "Got image: 4\n",
      "Got image: 5\n",
      "Got image: 6\n"
     ]
    }
   ],
   "source": [
    "fig, ax = plt.subplots()\n",
    "ax.set_xticks([])\n",
    "ax.set_yticks([])\n",
    "\n",
    "pvaChannel = '13SIM1:Pva1:Image'\n",
    "m = pvaMonitor(fig, ax)\n",
    "if __name__ == '__main__':\n",
    "    main(pvaChannel, m)"
   ]
  },
  {
   "cell_type": "code",
   "execution_count": 3,
   "metadata": {},
   "outputs": [],
   "source": [
    "CHANNEL = '13SIM1:Pva1:Image'\n",
    "c = pva.Channel(CHANNEL)\n"
   ]
  },
  {
   "cell_type": "code",
   "execution_count": 4,
   "metadata": {},
   "outputs": [
    {
     "data": {
      "image/png": "[encoded data removed]",
      "text/plain": [
       "<Figure size 640x480 with 1 Axes>"
      ]
     },
     "metadata": {},
     "output_type": "display_data"
    }
   ],
   "source": []
  },
  {
   "cell_type": "code",
   "execution_count": 5,
   "metadata": {},
   "outputs": [],
   "source": []
  },
  {
   "cell_type": "code",
   "execution_count": 6,
   "metadata": {},
   "outputs": [
    {
     "name": "stdout",
     "output_type": "stream",
     "text": [
      "Got image: 60897\n",
      "Got image: 60898\n"
     ]
    }
   ],
   "source": []
  },
  {
   "cell_type": "code",
   "execution_count": 7,
   "metadata": {},
   "outputs": [
    {
     "data": {
      "image/png": "[encoded data removed]",
      "text/plain": [
       "<Figure size 640x480 with 1 Axes>"
      ]
     },
     "execution_count": 7,
     "metadata": {},
     "output_type": "execute_result"
    }
   ],
   "source": [
    "m.fig"
   ]
  },
  {
   "cell_type": "code",
   "execution_count": 16,
   "metadata": {},
   "outputs": [
    {
     "name": "stdout",
     "output_type": "stream",
     "text": [
      "['__class__', '__contains__', '__delattr__', '__dict__', '__dir__', '__doc__', '__eq__', '__format__', '__ge__', '__getattribute__', '__getinitargs__', '__getitem__', '__gt__', '__hash__', '__init__', '__init_subclass__', '__instance_size__', '__le__', '__lt__', '__module__', '__ne__', '__new__', '__reduce__', '__reduce_ex__', '__repr__', '__safe_for_unpickling__', '__setattr__', '__setitem__', '__sizeof__', '__str__', '__subclasshook__', '__weakref__', 'copy', 'createUnionArrayElementField', 'createUnionField', 'get', 'getAsString', 'getBoolean', 'getByte', 'getDouble', 'getFloat', 'getInt', 'getIntrospectionDict', 'getLong', 'getPyObject', 'getScalarArray', 'getSelectedUnionFieldName', 'getShort', 'getString', 'getStructure', 'getStructureArray', 'getStructureDict', 'getUByte', 'getUInt', 'getULong', 'getUShort', 'getUnion', 'getUnionArray', 'getUnionArrayFieldNames', 'getUnionFieldNames', 'hasField', 'has_key', 'isUnionArrayVariant', 'isUnionVariant', 'items', 'keys', 'selectUnionField', 'set', 'setBoolean', 'setByte', 'setDouble', 'setFloat', 'setInt', 'setLong', 'setPyObject', 'setScalarArray', 'setShort', 'setString', 'setStructure', 'setStructureArray', 'setUByte', 'setUInt', 'setULong', 'setUShort', 'setUnion', 'setUnionArray', 'toDict', 'toJSON', 'useNumPyArrays', 'values']\n"
     ]
    }
   ],
   "source": [
    "print(dir(t))"
   ]
  },
  {
   "cell_type": "code",
   "execution_count": 29,
   "metadata": {},
   "outputs": [
    {
     "name": "stdout",
     "output_type": "stream",
     "text": [
      "0 ({'ubyteValue': array([214, 215, 216, ..., 210, 211, 212], dtype=uint8)}, {'ubyteValue': [pvaccess.pvaccess.ScalarType.UBYTE]})\n",
      "1 {'name': '', 'parameters': ({'value': 5}, {'value': pvaccess.pvaccess.ScalarType.INT})}\n",
      "2 1048576\n",
      "3 1048576\n",
      "4 [{'size': 1024, 'offset': 0, 'fullSize': 1024, 'binning': 1, 'reverse': False}, {'size': 1024, 'offset': 0, 'fullSize': 1024, 'binning': 1, 'reverse': False}]\n",
      "5 60884\n",
      "6 {'secondsPastEpoch': 1679953446, 'nanoseconds': 522838592, 'userTag': 0}\n",
      "7 [{'name': 'ColorMode', 'value': ({'value': 0}, {'value': pvaccess.pvaccess.ScalarType.INT}), 'descriptor': 'Color mode', 'sourceType': 0, 'source': 'Driver'}]\n",
      "8 \n",
      "9 {'severity': 0, 'status': 0, 'message': ''}\n",
      "10 {'secondsPastEpoch': 1679953446, 'nanoseconds': 622949773, 'userTag': 0}\n",
      "11 {'limitLow': 0.0, 'limitHigh': 0.0, 'description': '', 'format': '', 'units': ''}\n"
     ]
    }
   ],
   "source": [
    "for i, t_ in enumerate(t):\n",
    "    print(i, t_)"
   ]
  },
  {
   "cell_type": "code",
   "execution_count": 46,
   "metadata": {},
   "outputs": [],
   "source": [
    "d_ = d[0]['ubyteValue'].reshape((1024,1024))"
   ]
  },
  {
   "cell_type": "code",
   "execution_count": 48,
   "metadata": {},
   "outputs": [
    {
     "data": {
      "text/plain": [
       "<matplotlib.image.AxesImage at 0x7f749effbd90>"
      ]
     },
     "execution_count": 48,
     "metadata": {},
     "output_type": "execute_result"
    },
    {
     "data": {
      "image/png": "[encoded data removed]",
      "text/plain": [
       "<Figure size 640x480 with 1 Axes>"
      ]
     },
     "metadata": {},
     "output_type": "display_data"
    }
   ],
   "source": [
    "plt.imshow(d_.astype('float32'), 'gray')"
   ]
  },
  {
   "cell_type": "code",
   "execution_count": 45,
   "metadata": {},
   "outputs": [
    {
     "data": {
      "text/plain": [
       "(1048576,)"
      ]
     },
     "execution_count": 45,
     "metadata": {},
     "output_type": "execute_result"
    }
   ],
   "source": [
    "d_.shape"
   ]
  },
  {
   "cell_type": "code",
   "execution_count": 62,
   "metadata": {},
   "outputs": [
    {
     "name": "stdout",
     "output_type": "stream",
     "text": [
      "Got image: 60891\n",
      "<class 'list'> [{'size': 1024, 'offset': 0, 'fullSize': 1024, 'binning': 1, 'reverse': False}, {'size': 1024, 'offset': 0, 'fullSize': 1024, 'binning': 1, 'reverse': False}]\n"
     ]
    }
   ],
   "source": [
    "c.monitor(monitor)"
   ]
  },
  {
   "cell_type": "code",
   "execution_count": 63,
   "metadata": {},
   "outputs": [],
   "source": [
    "l = [{'size': 1024, 'offset': 0, 'fullSize': 1024, 'binning': 1, 'reverse': False}, {'size': 1024, 'offset': 0, 'fullSize': 1024, 'binning': 1, 'reverse': False}]"
   ]
  },
  {
   "cell_type": "code",
   "execution_count": 64,
   "metadata": {},
   "outputs": [],
   "source": [
    "import json"
   ]
  },
  {
   "cell_type": "code",
   "execution_count": 66,
   "metadata": {},
   "outputs": [
    {
     "ename": "AttributeError",
     "evalue": "module 'json' has no attribute 'read'",
     "output_type": "error",
     "traceback": [
      "\u001b[0;31m---------------------------------------------------------------------------\u001b[0m",
      "\u001b[0;31mAttributeError\u001b[0m                            Traceback (most recent call last)",
      "Cell \u001b[0;32mIn[66], line 1\u001b[0m\n\u001b[0;32m----> 1\u001b[0m json\u001b[39m.\u001b[39;49mread(l)\n",
      "\u001b[0;31mAttributeError\u001b[0m: module 'json' has no attribute 'read'"
     ]
    }
   ],
   "source": [
    "json.read(l)"
   ]
  },
  {
   "cell_type": "code",
   "execution_count": 68,
   "metadata": {},
   "outputs": [
    {
     "data": {
      "text/plain": [
       "numpy.ndarray"
      ]
     },
     "execution_count": 68,
     "metadata": {},
     "output_type": "execute_result"
    }
   ],
   "source": [
    "type(d_)"
   ]
  },
  {
   "cell_type": "code",
   "execution_count": 79,
   "metadata": {},
   "outputs": [
    {
     "data": {
      "text/plain": [
       "<Figure size 640x480 with 0 Axes>"
      ]
     },
     "metadata": {},
     "output_type": "display_data"
    },
    {
     "name": "stdout",
     "output_type": "stream",
     "text": [
      "2023/03/27 15:40:50.413 ERROR Channel:  Channel subscriber defaultSubscriber raised python exception.\n"
     ]
    },
    {
     "name": "stderr",
     "output_type": "stream",
     "text": [
      "Traceback (most recent call last):\n",
      "  File \"/tmp/ipykernel_1934556/410537723.py\", line 2, in <lambda>\n",
      "    c.monitor(lambda monitor:monitor(self, fig))\n",
      "NameError: name 'self' is not defined\n"
     ]
    }
   ],
   "source": [
    "fig = plt.figure()\n",
    "c.monitor(lambda monitor:monitor(self, fig))"
   ]
  },
  {
   "cell_type": "code",
   "execution_count": 76,
   "metadata": {},
   "outputs": [
    {
     "data": {
      "text/plain": [
       "{}"
      ]
     },
     "execution_count": 76,
     "metadata": {},
     "output_type": "execute_result"
    }
   ],
   "source": [
    "vars(c)"
   ]
  },
  {
   "cell_type": "code",
   "execution_count": null,
   "metadata": {},
   "outputs": [],
   "source": []
  }
 ],
 "metadata": {
  "kernelspec": {
   "display_name": "pva",
   "language": "python",
   "name": "python3"
  },
  "language_info": {
   "codemirror_mode": {
    "name": "ipython",
    "version": 3
   },
   "file_extension": ".py",
   "mimetype": "text/x-python",
   "name": "python",
   "nbconvert_exporter": "python",
   "pygments_lexer": "ipython3",
   "version": "3.9.16"
  },
  "orig_nbformat": 4,
  "vscode": {
   "interpreter": {
    "hash": "1b291fcab31b2202b463e73de50e217207890ec9529a05eedcd366278c042c32"
   }
  }
 },
 "nbformat": 4,
 "nbformat_minor": 2
}

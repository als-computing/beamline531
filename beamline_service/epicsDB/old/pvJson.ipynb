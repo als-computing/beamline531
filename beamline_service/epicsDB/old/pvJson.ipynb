{
 "cells": [
  {
   "cell_type": "code",
   "execution_count": 14,
   "metadata": {},
   "outputs": [],
   "source": [
    "import collections\n",
    "from pvList import pvlist\n",
    "import json\n",
    "\n",
    "# # put pvlist into dict\n",
    "# pv = collections.defaultdict(list)\n",
    "# for k in pvlist[0].keys():\n",
    "#     v = [v_[k] for v_ in pvlist]\n",
    "#     pv[k] = v"
   ]
  },
  {
   "cell_type": "code",
   "execution_count": 16,
   "metadata": {},
   "outputs": [
    {
     "name": "stdout",
     "output_type": "stream",
     "text": [
      "dict_keys(['pvname', 'pvname_alias', 'type', 'port', 'unit', 'hight', 'low', 'desc'])\n"
     ]
    }
   ],
   "source": [
    "pvdicts = {}\n",
    "for p in pvlist:\n",
    "    # pvdicts.update({p[]})\n",
    "    print(p.keys())\n",
    "    break"
   ]
  },
  {
   "cell_type": "code",
   "execution_count": 13,
   "metadata": {},
   "outputs": [],
   "source": [
    "# change dict key name \n",
    "pv_dict = {}\n",
    "for k_ in pv.keys():\n",
    "    if k_ == 'pvname':\n",
    "        pv_dict.update({'prefix':pv[k_]})\n",
    "    elif k_ == 'pvname_alias':\n",
    "        pv_dict.update({'name':pv[k_]})\n",
    "    elif k_ == 'type':\n",
    "        v = pv[k_]\n",
    "        for i, v_ in enumerate(v):\n",
    "            if v_ == 'motor':\n",
    "                v[i] = 'ophyd.EpicsMotor'\n",
    "            elif (v_ == 'camera') | (v_ == 'areaDetector'):\n",
    "                v[i] = 'ophyd.AreaDetector'\n",
    "            else:\n",
    "                v[i] = 'ophyd.Signal'\n",
    "        pv_dict.update({'device_class':v})\n",
    "    else:\n",
    "        pv_dict.update({k_:pv[k_]})\n",
    "\n",
    "# additional fields\n",
    "pv_dict.update({'args':[[\"{{prefix}}\"]] * len(pv_dict['name'])})"
   ]
  },
  {
   "cell_type": "code",
   "execution_count": 12,
   "metadata": {},
   "outputs": [
    {
     "data": {
      "text/plain": [
       "35"
      ]
     },
     "execution_count": 12,
     "metadata": {},
     "output_type": "execute_result"
    }
   ],
   "source": [
    "pv_dict1 = update({v['name']:{k:v[k] for k in v.keys()} })"
   ]
  },
  {
   "cell_type": "code",
   "execution_count": 8,
   "metadata": {},
   "outputs": [],
   "source": [
    "# write list of PV to json\n",
    "with open('pv.json', 'w') as fp:\n",
    "    json.dump(pv_dict, fp)"
   ]
  },
  {
   "cell_type": "code",
   "execution_count": null,
   "metadata": {},
   "outputs": [],
   "source": []
  }
 ],
 "metadata": {
  "kernelspec": {
   "display_name": "Python 3",
   "language": "python",
   "name": "python3"
  },
  "language_info": {
   "codemirror_mode": {
    "name": "ipython",
    "version": 3
   },
   "file_extension": ".py",
   "mimetype": "text/x-python",
   "name": "python",
   "nbconvert_exporter": "python",
   "pygments_lexer": "ipython3",
   "version": "3.10.6"
  },
  "orig_nbformat": 4,
  "vscode": {
   "interpreter": {
    "hash": "916dbcbb3f70747c44a77c7bcd40155683ae19c65e1c03b4aa3499c5328201f1"
   }
  }
 },
 "nbformat": 4,
 "nbformat_minor": 2
}

{
 "cells": [
  {
   "cell_type": "code",
   "execution_count": 1,
   "metadata": {},
   "outputs": [],
   "source": [
    "from happi.client import from_container\n",
    "from happi import HappiItem\n",
    "import json\n",
    "import happi"
   ]
  },
  {
   "cell_type": "code",
   "execution_count": 2,
   "metadata": {},
   "outputs": [],
   "source": [
    "client = happi.Client(path='./epicDB copy.json')"
   ]
  },
  {
   "cell_type": "code",
   "execution_count": 3,
   "metadata": {},
   "outputs": [],
   "source": [
    "a = list(client.items())"
   ]
  },
  {
   "cell_type": "code",
   "execution_count": 4,
   "metadata": {},
   "outputs": [
    {
     "data": {
      "text/plain": [
       "[OphydItem (name=bl531_m101_pitch_mm),\n",
       " OphydItem (name=bl531_saxs_mono_angle_deg)]"
      ]
     },
     "execution_count": 4,
     "metadata": {},
     "output_type": "execute_result"
    }
   ],
   "source": [
    "client.all_items"
   ]
  },
  {
   "cell_type": "code",
   "execution_count": 5,
   "metadata": {},
   "outputs": [],
   "source": [
    "d = client.find_item(name='bl531_saxs_mono_angle_deg')"
   ]
  },
  {
   "cell_type": "code",
   "execution_count": 8,
   "metadata": {},
   "outputs": [],
   "source": [
    "obj = from_container(d,attach_md=True)"
   ]
  },
  {
   "cell_type": "code",
   "execution_count": 56,
   "metadata": {},
   "outputs": [
    {
     "name": "stdout",
     "output_type": "stream",
     "text": [
      "user_setpoint 27.0\n",
      "user_offset 0.0\n",
      "user_offset_dir 0\n",
      "offset_freeze_switch 0\n",
      "set_use_switch 0\n",
      "velocity 1.0\n",
      "acceleration 0.2\n",
      "motor_egu deg\n",
      "motor_is_moving 0\n",
      "motor_done_move 1\n",
      "high_limit_switch 0\n",
      "low_limit_switch 0\n",
      "high_limit_travel 180.0\n",
      "low_limit_travel -100.0\n",
      "direction_of_travel 0\n",
      "motor_stop 0\n",
      "home_forward 0\n",
      "home_reverse 0\n"
     ]
    }
   ],
   "source": [
    "for c in obj.component_names:\n",
    "    if c != 'user_readback':\n",
    "        print(c, obj._signals[c].get())"
   ]
  },
  {
   "cell_type": "code",
   "execution_count": 60,
   "metadata": {},
   "outputs": [
    {
     "data": {
      "text/plain": [
       "MoveStatus(done=False, pos=bl531_saxs_mono_angle_deg, elapsed=0.0, success=False, settle_time=0.0)"
      ]
     },
     "execution_count": 60,
     "metadata": {},
     "output_type": "execute_result"
    }
   ],
   "source": [
    "obj.set(27.0)"
   ]
  },
  {
   "cell_type": "code",
   "execution_count": 61,
   "metadata": {},
   "outputs": [
    {
     "data": {
      "text/plain": [
       "OrderedDict([('bl531_saxs_mono_angle_deg',\n",
       "              {'value': 27.0, 'timestamp': 1677724466.745373}),\n",
       "             ('bl531_saxs_mono_angle_deg_user_setpoint',\n",
       "              {'value': 27.0, 'timestamp': 1677724466.049873})])"
      ]
     },
     "execution_count": 61,
     "metadata": {},
     "output_type": "execute_result"
    }
   ],
   "source": [
    "obj.read()"
   ]
  },
  {
   "cell_type": "code",
   "execution_count": 40,
   "metadata": {},
   "outputs": [
    {
     "name": "stdout",
     "output_type": "stream",
     "text": [
      "data keys (* hints)\n",
      "-------------------\n",
      "*bl531_saxs_mono_angle_deg\n",
      " bl531_saxs_mono_angle_deg_user_setpoint\n",
      "\n",
      "read attrs\n",
      "----------\n",
      "user_readback        EpicsSignalRO       ('bl531_saxs_mono_angle_deg')\n",
      "user_setpoint        EpicsSignal         ('bl531_saxs_mono_angle_deg_user_setpoint')\n",
      "\n",
      "config keys\n",
      "-----------\n",
      "bl531_saxs_mono_angle_deg_acceleration\n",
      "bl531_saxs_mono_angle_deg_motor_egu\n",
      "bl531_saxs_mono_angle_deg_user_offset\n",
      "bl531_saxs_mono_angle_deg_user_offset_dir\n",
      "bl531_saxs_mono_angle_deg_velocity\n",
      "\n",
      "configuration attrs\n",
      "-------------------\n",
      "user_offset          EpicsSignal         ('bl531_saxs_mono_angle_deg_user_offset')\n",
      "user_offset_dir      EpicsSignal         ('bl531_saxs_mono_angle_deg_user_offset_dir')\n",
      "velocity             EpicsSignal         ('bl531_saxs_mono_angle_deg_velocity')\n",
      "acceleration         EpicsSignal         ('bl531_saxs_mono_angle_deg_acceleration')\n",
      "motor_egu            EpicsSignal         ('bl531_saxs_mono_angle_deg_motor_egu')\n",
      "\n",
      "unused attrs\n",
      "------------\n",
      "offset_freeze_switch EpicsSignal         ('bl531_saxs_mono_angle_deg_offset_freeze_switch')\n",
      "set_use_switch       EpicsSignal         ('bl531_saxs_mono_angle_deg_set_use_switch')\n",
      "motor_is_moving      EpicsSignalRO       ('bl531_saxs_mono_angle_deg_motor_is_moving')\n",
      "motor_done_move      EpicsSignalRO       ('bl531_saxs_mono_angle_deg_motor_done_move')\n",
      "high_limit_switch    EpicsSignalRO       ('bl531_saxs_mono_angle_deg_high_limit_switch')\n",
      "low_limit_switch     EpicsSignalRO       ('bl531_saxs_mono_angle_deg_low_limit_switch')\n",
      "high_limit_travel    EpicsSignal         ('bl531_saxs_mono_angle_deg_high_limit_travel')\n",
      "low_limit_travel     EpicsSignal         ('bl531_saxs_mono_angle_deg_low_limit_travel')\n",
      "direction_of_travel  EpicsSignal         ('bl531_saxs_mono_angle_deg_direction_of_travel')\n",
      "motor_stop           EpicsSignal         ('bl531_saxs_mono_angle_deg_motor_stop')\n",
      "home_forward         EpicsSignal         ('bl531_saxs_mono_angle_deg_home_forward')\n",
      "home_reverse         EpicsSignal         ('bl531_saxs_mono_angle_deg_home_reverse')\n",
      "\n"
     ]
    }
   ],
   "source": [
    "obj.summary()"
   ]
  },
  {
   "cell_type": "code",
   "execution_count": 55,
   "metadata": {},
   "outputs": [
    {
     "name": "stderr",
     "output_type": "stream",
     "text": [
      "/tmp/ipykernel_654027/357684778.py:1: UserWarning: 'signal_names' has been renamed 'component_names' for clarity because it may include a mixture of Signals and Devices -- any Components. This alias may be removed in a future release of ophyd.\n",
      "  obj.signal_names\n"
     ]
    },
    {
     "data": {
      "text/plain": [
       "('user_readback',\n",
       " 'user_setpoint',\n",
       " 'user_offset',\n",
       " 'user_offset_dir',\n",
       " 'offset_freeze_switch',\n",
       " 'set_use_switch',\n",
       " 'velocity',\n",
       " 'acceleration',\n",
       " 'motor_egu',\n",
       " 'motor_is_moving',\n",
       " 'motor_done_move',\n",
       " 'high_limit_switch',\n",
       " 'low_limit_switch',\n",
       " 'high_limit_travel',\n",
       " 'low_limit_travel',\n",
       " 'direction_of_travel',\n",
       " 'motor_stop',\n",
       " 'home_forward',\n",
       " 'home_reverse')"
      ]
     },
     "execution_count": 55,
     "metadata": {},
     "output_type": "execute_result"
    }
   ],
   "source": [
    "obj.signal_names"
   ]
  },
  {
   "cell_type": "code",
   "execution_count": 31,
   "metadata": {},
   "outputs": [
    {
     "name": "stdout",
     "output_type": "stream",
     "text": [
      "['OphydAttrList', 'SUB_ACQ_DONE', 'SUB_DONE', 'SUB_READBACK', 'SUB_START', '_Device__set_kinds_according_to_list', '_OphydObject__any_instantiated', '_OphydObject__instantiation_callbacks', '_OphydObject__register_instance', '_SUB_REQ_DONE', '__class__', '__copy__', '__delattr__', '__dict__', '__dir__', '__doc__', '__eq__', '__format__', '__ge__', '__getattr__', '__getattribute__', '__getnewargs_ex__', '__gt__', '__hash__', '__init__', '__init_subclass__', '__le__', '__lt__', '__module__', '__ne__', '__new__', '__reduce__', '__reduce_ex__', '__repr__', '__setattr__', '__sizeof__', '__str__', '__subclasshook__', '__weakref__', '_args_cache', '_attr_name', '_callbacks', '_cb_count', '_cid_to_event_mapping', '_component_kinds', '_default_configuration_attrs', '_default_read_attrs', '_default_sub', '_destroyed', '_device_tuple', '_done_acquiring', '_done_moving', '_get_components_of_kind', '_get_kind', '_initialize_device', '_instantiate_component', '_kind', '_mark_as_instantiated', '_move_changed', '_moving', '_name', '_ophyd_labels_', '_original_vals', '_parent', '_pos_changed', '_position', '_repr_info', '_required_for_connection', '_reset_sub', '_run_subs', '_set_kind', '_set_position', '_settle_time', '_sig_attrs', '_signals', '_staged', '_started_moving', '_sub_devices', '_summary', '_timeout', '_unwrapped_callbacks', '_validate_kind', 'acceleration', 'add_instantiation_callback', 'attr_name', 'check_value', 'clear_sub', 'component_names', 'configuration_attrs', 'configure', 'connected', 'control_layer_log', 'describe', 'describe_configuration', 'destroy', 'direction_of_travel', 'dotted_name', 'egu', 'event_types', 'get', 'get_device_tuple', 'get_instantiated_signals', 'get_lim', 'high_limit', 'high_limit_switch', 'high_limit_travel', 'hints', 'home', 'home_forward', 'home_reverse', 'kind', 'lazy_wait_for_connection', 'limits', 'log', 'low_limit', 'low_limit_switch', 'low_limit_travel', 'md', 'motor_done_move', 'motor_egu', 'motor_is_moving', 'motor_stop', 'move', 'moving', 'name', 'offset_freeze_switch', 'parent', 'pause', 'position', 'precision', 'prefix', 'put', 'read', 'read_attrs', 'read_configuration', 'report', 'resume', 'root', 'set', 'set_current_position', 'set_lim', 'set_use_switch', 'settle_time', 'signal_names', 'stage', 'stage_sigs', 'stop', 'subscribe', 'subscriptions', 'summary', 'timeout', 'tolerated_alarm', 'trigger', 'trigger_signals', 'unstage', 'unsubscribe', 'unsubscribe_all', 'user_offset', 'user_offset_dir', 'user_readback', 'user_setpoint', 'velocity', 'wait_for_connection', 'walk_components', 'walk_signals', 'walk_subdevice_classes', 'walk_subdevices']\n"
     ]
    }
   ],
   "source": [
    "print(dir(obj))"
   ]
  },
  {
   "cell_type": "code",
   "execution_count": null,
   "metadata": {},
   "outputs": [],
   "source": []
  }
 ],
 "metadata": {
  "kernelspec": {
   "display_name": "base",
   "language": "python",
   "name": "python3"
  },
  "language_info": {
   "codemirror_mode": {
    "name": "ipython",
    "version": 3
   },
   "file_extension": ".py",
   "mimetype": "text/x-python",
   "name": "python",
   "nbconvert_exporter": "python",
   "pygments_lexer": "ipython3",
   "version": "3.10.9"
  },
  "orig_nbformat": 4,
  "vscode": {
   "interpreter": {
    "hash": "e7ac37d16ba7a5e7b028c1d047cd3d30bf913e9d3de99c79c693f233d5cb6cb1"
   }
  }
 },
 "nbformat": 4,
 "nbformat_minor": 2
}

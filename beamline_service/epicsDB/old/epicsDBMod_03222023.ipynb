{
 "cells": [
  {
   "cell_type": "code",
   "execution_count": 1,
   "metadata": {},
   "outputs": [],
   "source": [
    "import sys, json, collections\n",
    "sys.path.append('../')\n",
    "from epicsdb import getClientPath, getDB, pushData_list\n",
    "import pandas as pd\n",
    "from pvList import pvlist"
   ]
  },
  {
   "cell_type": "code",
   "execution_count": 2,
   "metadata": {},
   "outputs": [],
   "source": [
    "with open('../config.json') as d:\n",
    "    configs = json.load(d)"
   ]
  },
  {
   "cell_type": "code",
   "execution_count": 3,
   "metadata": {},
   "outputs": [],
   "source": [
    "clientlink = getClientPath(input_dic=configs)\n",
    "df = getDB(clientlink, configs['DB'], configs['COLLECTION'])"
   ]
  },
  {
   "cell_type": "code",
   "execution_count": 4,
   "metadata": {},
   "outputs": [],
   "source": [
    "pvnames = list(df['name'])"
   ]
  },
  {
   "cell_type": "code",
   "execution_count": 5,
   "metadata": {},
   "outputs": [
    {
     "data": {
      "text/plain": [
       "['bl531_m101_pitch_mm',\n",
       " 'bl531_m101_bend_um',\n",
       " 'bl531_m101_slit_st',\n",
       " 'bl531_saxs_mono_angle_deg',\n",
       " 'bl531_saxs_mono_height_mm',\n",
       " 'bl531_saxs_hs_slit_A',\n",
       " 'bl531_saxs_hs_slit_B',\n",
       " 'bl531_saxs_hs_slit_C',\n",
       " 'bl531:saxs:hs_slit:D',\n",
       " 'bl531_saxs_hs_slit_E',\n",
       " 'bl531_saxs_hs_slit_F',\n",
       " 'bl531_saxs_hs_slit_G',\n",
       " 'bl531_saxs_hs_slit_H',\n",
       " 'bl531_saxs_hs',\n",
       " 'bl531_saxs_sample_slit_E',\n",
       " 'bl531_saxs_sample_slit_F',\n",
       " 'bl531_saxs_sample_slit_G',\n",
       " 'bl531_saxs_sample_slit_H',\n",
       " 'bl531_saxs_hxp_x_mm',\n",
       " 'bl531_saxs_hxp_y_mm',\n",
       " 'bl531_saxs_hxp_z_mm',\n",
       " 'bl531_saxs_hxp_u_deg',\n",
       " 'bl531_saxs_hxp_v_deg',\n",
       " 'bl531_saxs_hxp_w_deg',\n",
       " 'bl531_saxs_beamstop_x_mm',\n",
       " 'bl531_saxs_beamstop_y_mm',\n",
       " 'bl531_saxs_esp301_x_mm',\n",
       " 'bl531_saxs_esp301_y_mm',\n",
       " 'bl531_saxs_esp301_z_mm']"
      ]
     },
     "execution_count": 5,
     "metadata": {},
     "output_type": "execute_result"
    }
   ],
   "source": [
    "pvnames"
   ]
  },
  {
   "cell_type": "code",
   "execution_count": 6,
   "metadata": {},
   "outputs": [
    {
     "data": {
      "text/plain": [
       "Index(['_id', 'active', 'args', 'beamline', 'creation', 'detailed_screen',\n",
       "       'device_class', 'documentation', 'embedded_screen',\n",
       "       'engineering_screen', 'functional_group', 'last_edit', 'lightpath',\n",
       "       'location_group', 'macros', 'name', 'parent', 'prefix', 'stand',\n",
       "       'system', 'type', 'z', 'unit', 'port'],\n",
       "      dtype='object')"
      ]
     },
     "execution_count": 6,
     "metadata": {},
     "output_type": "execute_result"
    }
   ],
   "source": [
    "df.keys()"
   ]
  },
  {
   "cell_type": "code",
   "execution_count": 7,
   "metadata": {},
   "outputs": [
    {
     "data": {
      "text/plain": [
       "_id                        6412405223d463e59014d02f\n",
       "active                                         True\n",
       "args                                   [{{prefix}}]\n",
       "beamline                                      5.3.1\n",
       "creation                   Tue Feb 28 08:27:04 2023\n",
       "detailed_screen                                None\n",
       "device_class                       ophyd.EpicsMotor\n",
       "documentation                                  None\n",
       "embedded_screen                                None\n",
       "engineering_screen                             None\n",
       "functional_group                         Open ports\n",
       "last_edit                  Tue Feb 28 08:27:04 2023\n",
       "lightpath                                     False\n",
       "location_group        Open ports for future devices\n",
       "macros                                         None\n",
       "name                         bl531_saxs_esp301_z_mm\n",
       "parent                                         None\n",
       "prefix                                  newport:m13\n",
       "stand                                          None\n",
       "system                                         None\n",
       "type                                      OphydItem\n",
       "z                                              -1.0\n",
       "unit                                             mm\n",
       "port                              ttyUSB301, axis 3\n",
       "Name: 28, dtype: object"
      ]
     },
     "execution_count": 7,
     "metadata": {},
     "output_type": "execute_result"
    }
   ],
   "source": [
    "df.iloc[-1]"
   ]
  },
  {
   "cell_type": "code",
   "execution_count": 8,
   "metadata": {},
   "outputs": [
    {
     "name": "stdout",
     "output_type": "stream",
     "text": [
      "23 ['active', 'args', 'beamline', 'creation', 'detailed_screen', 'device_class', 'documentation', 'embedded_screen', 'engineering_screen', 'functional_group', 'last_edit', 'lightpath', 'location_group', 'macros', 'name', 'parent', 'prefix', 'stand', 'system', 'type', 'z', 'unit', 'port']\n",
      "6\n"
     ]
    }
   ],
   "source": [
    "fields = list(df.keys())[1:]\n",
    "selPVs = pvlist[-6:]\n",
    "colselpvs = collections.defaultdict(list)\n",
    "\n",
    "\n",
    "print(len(fields), fields)\n",
    "print(len(selPVs))"
   ]
  },
  {
   "cell_type": "code",
   "execution_count": 9,
   "metadata": {},
   "outputs": [],
   "source": [
    "for f in fields:\n",
    "    if f == 'name':\n",
    "        colselpvs[f] = [p['pvname_alias'] for p in selPVs]\n",
    "    elif f == 'port':\n",
    "        colselpvs[f] = [p['port'] for p in selPVs]\n",
    "    elif f == 'device_class':\n",
    "        colselpvs[f] = ['ophyd.AreaDetector'] * len(selPVs)\n",
    "    elif f == 'type':\n",
    "        colselpvs[f] = ['OphydItem'] * len(selPVs)\n",
    "    elif f == 'active':\n",
    "        colselpvs[f] = [True] * len(selPVs)\n",
    "    elif f == 'args':\n",
    "        colselpvs[f] = ['{{prefix}}'] * len(selPVs)\n",
    "    elif f == 'beamline':\n",
    "        colselpvs[f] = ['bl531'] * len(selPVs)\n",
    "    elif f == 'creation':\n",
    "        colselpvs[f] = ['Tue Feb 28 08:27:04 2023'] * len(selPVs)\n",
    "    else:\n",
    "        colselpvs[f] = [None] * len(selPVs)"
   ]
  },
  {
   "cell_type": "code",
   "execution_count": 10,
   "metadata": {},
   "outputs": [],
   "source": [
    "dfsel = pd.DataFrame(colselpvs)\n",
    "dfsel_dict = dfsel.to_dict('records')"
   ]
  },
  {
   "cell_type": "code",
   "execution_count": 12,
   "metadata": {},
   "outputs": [
    {
     "name": "stdout",
     "output_type": "stream",
     "text": [
      "No such fields\n",
      "Uploading bl531:saxs:camera:basler_color\n",
      "No such fields\n",
      "Uploading bl531:saxs:camera:basler_mono\n",
      "No such fields\n",
      "Uploading bl531:saxs:camera:manta\n",
      "No such fields\n",
      "Uploading bl531:saxs:pilatus1M\n",
      "No such fields\n",
      "Uploading bl531:saxs:pilatus300K\n",
      "No such fields\n",
      "Uploading bl531:saxs:labjack\n"
     ]
    }
   ],
   "source": [
    "pushData_list(clientlink, configs['DB'], configs['COLLECTION'], dfsel_dict)"
   ]
  },
  {
   "cell_type": "code",
   "execution_count": null,
   "metadata": {},
   "outputs": [],
   "source": []
  }
 ],
 "metadata": {
  "kernelspec": {
   "display_name": "base",
   "language": "python",
   "name": "python3"
  },
  "language_info": {
   "codemirror_mode": {
    "name": "ipython",
    "version": 3
   },
   "file_extension": ".py",
   "mimetype": "text/x-python",
   "name": "python",
   "nbconvert_exporter": "python",
   "pygments_lexer": "ipython3",
   "version": "3.10.9"
  },
  "orig_nbformat": 4,
  "vscode": {
   "interpreter": {
    "hash": "e7ac37d16ba7a5e7b028c1d047cd3d30bf913e9d3de99c79c693f233d5cb6cb1"
   }
  }
 },
 "nbformat": 4,
 "nbformat_minor": 2
}
